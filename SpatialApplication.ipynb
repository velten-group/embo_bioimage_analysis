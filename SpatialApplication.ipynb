{
 "cells": [
  {
   "cell_type": "code",
   "execution_count": 1,
   "id": "6276f4dd-faf9-484a-a2ab-dcfd1d1bc4e6",
   "metadata": {},
   "outputs": [],
   "source": [
    "import warnings\n",
    "warnings.filterwarnings(\"ignore\", category=FutureWarning)\n",
    "\n",
    "import squidpy as sq\n",
    "\n",
    "adata = sq.datasets.visium_hne_adata()\n",
    "adata\n",
    "\n",
    "%matplotlib inline"
   ]
  },
  {
   "cell_type": "markdown",
   "id": "54131acc-d9a8-44d7-8ea0-90d4e93bf72f",
   "metadata": {},
   "source": [
    "# Task 0\n",
    "\n",
    "Get familiar with the dataset. Find out which information is contained in `adata`.\n",
    "\n",
    "The data provided is a 10X Visium measurement of a coronal section of a mouse.<br>\n",
    "10X Visium is a spot-based sequencing analysis technique.<br>\n",
    "The dataset is already processed on the count level, so no further pre-processing is required before doing the spatial analyses."
   ]
  },
  {
   "cell_type": "code",
   "execution_count": 2,
   "id": "0faab168-85d9-499d-9b39-318c3ec68a09",
   "metadata": {},
   "outputs": [
    {
     "data": {
      "text/plain": [
       "AnnData object with n_obs × n_vars = 2688 × 18078\n",
       "    obs: 'in_tissue', 'array_row', 'array_col', 'n_genes_by_counts', 'log1p_n_genes_by_counts', 'total_counts', 'log1p_total_counts', 'pct_counts_in_top_50_genes', 'pct_counts_in_top_100_genes', 'pct_counts_in_top_200_genes', 'pct_counts_in_top_500_genes', 'total_counts_mt', 'log1p_total_counts_mt', 'pct_counts_mt', 'n_counts', 'leiden', 'cluster'\n",
       "    var: 'gene_ids', 'feature_types', 'genome', 'mt', 'n_cells_by_counts', 'mean_counts', 'log1p_mean_counts', 'pct_dropout_by_counts', 'total_counts', 'log1p_total_counts', 'n_cells', 'highly_variable', 'highly_variable_rank', 'means', 'variances', 'variances_norm'\n",
       "    uns: 'cluster_colors', 'hvg', 'leiden', 'leiden_colors', 'neighbors', 'pca', 'rank_genes_groups', 'spatial', 'umap'\n",
       "    obsm: 'X_pca', 'X_umap', 'spatial'\n",
       "    varm: 'PCs'\n",
       "    obsp: 'connectivities', 'distances'"
      ]
     },
     "execution_count": 2,
     "metadata": {},
     "output_type": "execute_result"
    }
   ],
   "source": [
    "adata"
   ]
  },
  {
   "cell_type": "markdown",
   "id": "e208cb78-595e-4c93-8780-1ecb73bca721",
   "metadata": {},
   "source": [
    "# Task 1\n",
    "\n",
    "Find genes that show spatial correlation and compare it to their spatial randomness.\n",
    "\n",
    "To do so, you need to first compute the cell-cell neighbor graph.\n",
    "Based on the technology of the data used (10X Visium), make an informed choice on the neighbor-graph algorithm."
   ]
  },
  {
   "cell_type": "markdown",
   "id": "751a61cf-a50c-4cf2-acec-4ba356b662ab",
   "metadata": {},
   "source": [
    "# Task 2\n",
    "\n",
    "Find cell clusters which are co-localizing, i.e. which have a higher probability to be neighbors.\n",
    "\n",
    "Plotting the statistics for each cluster might be a bit too laborious.\n",
    "Instead, you can use some prior knowledge by looking at the cell cluster distribution and derive interesting candidates.\n",
    "\n",
    "How would you interpret the specific results you see?"
   ]
  },
  {
   "cell_type": "markdown",
   "id": "6c5e53e3-0a73-4c2b-b9c1-5fd01fcf1fe0",
   "metadata": {},
   "source": [
    "# Task 3\n",
    "\n",
    "What cell clusters are more prevalent in the neighborhood of a specific cell type?\n",
    "How does this compare to the co-occurence results from task 2?\n",
    "\n",
    "What biological functions might this imply? What downstream analyses could this trigger?\n",
    "\n",
    "What does the diagonal mean biologically?"
   ]
  }
 ],
 "metadata": {
  "kernelspec": {
   "display_name": "Python 3 (ipykernel)",
   "language": "python",
   "name": "python3"
  },
  "language_info": {
   "codemirror_mode": {
    "name": "ipython",
    "version": 3
   },
   "file_extension": ".py",
   "mimetype": "text/x-python",
   "name": "python",
   "nbconvert_exporter": "python",
   "pygments_lexer": "ipython3",
   "version": "3.10.17"
  }
 },
 "nbformat": 4,
 "nbformat_minor": 5
}
