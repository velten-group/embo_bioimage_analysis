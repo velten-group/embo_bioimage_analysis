{
 "cells": [
  {
   "cell_type": "code",
   "execution_count": null,
   "id": "15363b4f-2a24-4541-94cc-ced2618986cc",
   "metadata": {},
   "outputs": [],
   "source": [
    "import warnings\n",
    "\n",
    "with warnings.catch_warnings():\n",
    "    warnings.filterwarnings(\"ignore\", category=FutureWarning)\n",
    "    warnings.filterwarnings(\"ignore\", category=UserWarning)\n",
    "    \n",
    "    import anndata as ad\n",
    "    import squidpy as sq\n",
    "    \n",
    "import numpy as np\n",
    "import pandas as pd\n",
    "import matplotlib.pyplot as plt\n",
    "from matplotlib.colors import Normalize\n",
    "from scipy import spatial\n",
    "from tqdm.notebook import tqdm\n",
    "from statsmodels.stats.multitest import fdrcorrection\n",
    "\n",
    "%matplotlib inline"
   ]
  },
  {
   "cell_type": "markdown",
   "id": "c476585f-5b30-4eef-8465-d936e91d14ce",
   "metadata": {},
   "source": [
    "# Data\n",
    "\n",
    "In this notebook, we work with data from the [`squidpy`](https://squidpy.readthedocs.io/en/stable/api.html) documentation to introduce `squidpy`'s functionalities for spatial statistics on omics data. In particular, we work with MERFISH data from [Moffitt et al.](https://doi.org/10.1126/science.aau5324).\n",
    "\n",
    "The data stored in the form of an [`AnnData`]() object. \n",
    "\n",
    "![AnnData object structure](imgs/anndata_schema.png \"AnnData object structure\")\n",
    "\n",
    "It contains eight attributes\n",
    "\n",
    "1. `X`: `scipy.csr_matrix`, count matrix (cells x genes)\n",
    "2. `obs`: `pandas.DataFrame`, metadata for cells (same order as rows of `X`)\n",
    "3. `var`: `pandas.DataFrame`, metadata for genes (same order as columns of `X`)\n",
    "4. `obsm`: `dict`,\n",
    "5. `obsp`: `dict`, pairwise data for observations\n",
    "4. `varm`: `dict`,\n",
    "5. `varp`: `dict`, pairwise data for variables\n",
    "6. `uns`: `dict`, additional unstructured information\n",
    "\n",
    "\n",
    "Note that not every `AnnData` object necessarily contains all of these attributes.\n",
    "\n",
    "We start by getting an overview of the data."
   ]
  },
  {
   "cell_type": "code",
   "execution_count": null,
   "id": "ff7cdc56-38fc-4158-b922-4a48e5e28d54",
   "metadata": {},
   "outputs": [],
   "source": [
    "# load dataset from within squidpy\n",
    "# an external AnnData object is usually loaded with anndata.read_h5ad(<filename>)\n",
    "merfish = sq.datasets.merfish()\n",
    "# show an overview\n",
    "merfish"
   ]
  },
  {
   "cell_type": "markdown",
   "id": "313ba492-c2a5-4f03-86fa-2ff949321d39",
   "metadata": {},
   "source": [
    "# Basic visualizations"
   ]
  },
  {
   "cell_type": "markdown",
   "id": "5344ba0b-862d-48e6-970d-7c95e6b2ac8c",
   "metadata": {},
   "source": [
    "We can see that our dataset contains 73655 cells and 161 genes.  For this tutorial we will subset to a smaller region of the tissue. How many cells are left after running the subset function below?\n",
    "\n",
    "The spatial coordinates per cell are stored in `obsm['spatial']`. Additionally, the cell centroids are stored in `obs`."
   ]
  },
  {
   "cell_type": "code",
   "execution_count": null,
   "id": "7650777b-a8e5-42a5-94c8-2e8246842d3b",
   "metadata": {},
   "outputs": [],
   "source": [
    "def subset_by_coordinates(adata: ad.AnnData, max_x: float, max_y: float, spatial_key: str = \"spatial\") -> ad.AnnData:\n",
    "    x_mask = adata.obsm[spatial_key][:, 0] < max_x\n",
    "    y_mask = adata.obsm[spatial_key][:, 1] < max_y\n",
    "    mask = x_mask & y_mask\n",
    "    return ad.AnnData(\n",
    "        X=adata.X[mask, :],\n",
    "        obs=adata.obs.iloc[mask, :],\n",
    "        uns=adata.uns,\n",
    "        obsm={k: v[mask, :] for k, v in adata.obsm.items()}\n",
    "    )"
   ]
  },
  {
   "cell_type": "code",
   "execution_count": null,
   "id": "c7add84a-9ba8-4c9b-a7fb-7022b24f522f",
   "metadata": {},
   "outputs": [],
   "source": [
    "merfish_subset = subset_by_coordinates(merfish, 0.2, 0.2)"
   ]
  },
  {
   "cell_type": "markdown",
   "id": "81a59569-372c-4215-a635-5dba527c282a",
   "metadata": {},
   "source": [
    "# Neighbor graphs with `squidpy.gr`\n",
    "\n",
    "The `squidpy.gr` module implements different functionalities based on spatial neigbhor graphs.<br>\n",
    "Most spatial statistics are build around neighbor graphs, as they allow to compare statistics between samples with different scales.\n",
    "\n",
    "Note that this part of the tutorial focuses on spatial statistics between cells *not* individual molecules.<br>\n",
    "The main idea, however, is also applicable to single-molecule analyses."
   ]
  },
  {
   "cell_type": "code",
   "execution_count": null,
   "id": "d89f99c2-97b3-499f-a051-d7d901f80a5f",
   "metadata": {},
   "outputs": [],
   "source": [
    "def plot_neighbor_graph(adata, connectivity_key: str, spatial_key: str = \"spatial\", ax=None, subset=None) -> plt.axis:\n",
    "    if ax is None:\n",
    "        _, ax = plt.subplots(figsize=(10,10))\n",
    "\n",
    "    if subset is None:\n",
    "        connect = adata.obsp[connectivity_key].tocoo()\n",
    "        coords = adata.obsm[spatial_key]\n",
    "    else:\n",
    "        connect = adata.obsp[connectivity_key][subset, subset].tocoo()\n",
    "        coords = adata.obsm[spatial_key][subset, :]\n",
    "        \n",
    "    for i, j in tqdm(zip(connect.row, connect.col), total=connect.nnz, desc=\"Edges\"):\n",
    "        ax.plot(coords[[i,j], 0], coords[[i,j], 1], c=\"tab:grey\")\n",
    "    ax.scatter(coords[:, 0], coords[:, 1], c=\"tab:blue\")\n",
    "\n",
    "    return ax"
   ]
  },
  {
   "cell_type": "markdown",
   "id": "e9dcc23b-adb7-4687-b8da-4df62816a867",
   "metadata": {},
   "source": [
    "## Computing neighbor graphs\n",
    "\n",
    "We begin by looking at different ways to compute spatial neighborhood graphs.\n",
    "\n",
    "**kNN Graph**<br>\n",
    "For each cell, find the k closest cells and add edges to them.<br>\n",
    "**Question:** Does this mean every cell has exactly k edges?\n",
    "\n",
    "**Delaunay Triangulation**<br>\n",
    "Connects all cells with triangles such that no cell lies inside the circumcircle of any triangle.<br>\n",
    "**Question:** How many edges does a cell have?"
   ]
  },
  {
   "cell_type": "markdown",
   "id": "18ec4fc6-7ae4-462e-bb59-03bbd05c2852",
   "metadata": {},
   "source": [
    "**Task**: Compute spatial neighborhood graphs with different algorithms/parameters using the function [`sq.gr.spatial_neighbors`](https://squidpy.readthedocs.io/en/stable/api/squidpy.gr.spatial_neighbors.html).\n",
    "\n",
    "*Note*: By default, [`sq.gr.spatial_neighbors`](https://squidpy.readthedocs.io/en/stable/api/squidpy.gr.spatial_neighbors.html) stores the resulting graph under the key `\"spatial_connectivities\"`.\n",
    "To keep multiple graphs, you must pass a value to `key_added` in all or all but one call to the function. The graph is then stored in `\"<key_added>_connectivities\"`"
   ]
  },
  {
   "cell_type": "code",
   "execution_count": null,
   "id": "82b899c2-ea06-492f-aeb0-46bc5518fb68",
   "metadata": {},
   "outputs": [],
   "source": [
    "# kNN with k = 5\n",
    "\n",
    "# kNN with k = 10\n",
    "\n",
    "# delaunay\n"
   ]
  },
  {
   "cell_type": "markdown",
   "id": "d9f6a661-facc-443a-a557-c86240f3ff21",
   "metadata": {},
   "source": [
    "**Task**: Plot the resulting graphs with the predefined plotting function\n",
    "\n",
    "**Questions:**<br>\n",
    "What are the major differences between the different graph constructors?<br>\n",
    "Which one would you pick? Why?"
   ]
  },
  {
   "cell_type": "code",
   "execution_count": null,
   "id": "2af4289e-76c0-4d14-9baf-07c657365b30",
   "metadata": {},
   "outputs": [],
   "source": [
    "fig, axes = plt.subplots(figsize=(27, 9), ncols=3)\n",
    "\n",
    "# if you chose different keys in the cell above, adjust them here\n",
    "keys = [\"spatial\", \"knn10\", \"delaunay\"]\n",
    "for ax, title, key in zip(axes, [\"kNN 5\", \"kNN 10\", \"Delaunay\"], keys):\n",
    "    plot_neighbor_graph(merfish_subset, f\"{key}_connectivities\", ax=ax)\n",
    "    ax.set_title(title)\n",
    "    ax.set_axis_off()\n",
    "\n",
    "plt.tight_layout()\n",
    "plt.show()\n",
    "plt.close(fig)"
   ]
  },
  {
   "cell_type": "markdown",
   "id": "24008531-5200-4340-8620-ff206829d9cc",
   "metadata": {},
   "source": [
    "## Ripley's Statistics\n",
    "\n",
    "Ripley's statistics calculate the probability of two points being closer than a certain threshold in a neighbor graph. They therefore indicate whether the distribution of points is random, dispersed or clustered for a *given scale* $t$.\n",
    "\n",
    "### Ripley's L/K\n",
    "\n",
    "Ripley's K is defined as\n",
    "$$ K(t) = \\lambda^{-1} \\sum_{i \\neq j} \\frac{I(d(i,j) < t)}{n} $$\n",
    "\n",
    "where $d(\\cdot,\\cdot)$ is a distance metric and $I(\\cdot)$ is a Kronecker delta-like function outputting 1 if the conditions is true and 0 otherwise.<br>\n",
    "$\\lambda$ is a normalization factor for the density of points, usually computed as the number of points over the area of the region.<br>\n",
    "In the case of uniformly distributed points, $K(t) \\approx \\pi t^2$.\n",
    "\n",
    "$K$ is turned into $L$ via variance-stabilizing transformation\n",
    "\n",
    "$$ L(t) = \\left(\\frac{K(t)}{\\pi}\\right)^{1/2} $$\n",
    "\n",
    "such that for a uniform distribution $L(t) \\approx t$\n",
    "\n",
    "### Ripley's F/G\n",
    "\n",
    "$$R(t) = P\\left(d(i,j) \\leq t\\right)$$\n",
    "Where $R(t) = F(t)$ if $d(\\cdot,\\cdot)$ is the distance to a random *Poisson Point Process* and $R(t) = G(t)$ if $d(\\cdot,\\cdot)$ is a metric to other points in the data, typically the euclidean distance.\n",
    "\n",
    "\n",
    "\n",
    "**Notes on the `squidpy` implementation ([`sq.gr.ripley`](https://squidpy.readthedocs.io/en/stable/api/squidpy.gr.ripley.html))**\n",
    "\n",
    "To compute p-values for the statistics, `squidpy` simulates n random Poisson Point Processes (simulating homogeneous distributions) and computes empirical p-values by comparing the Ripley's statistics of that of the simulations. The number of simulations can be set with `n_simulations` and represents a trade-off between runtime and robustness (and maximum precision) of the p-value estimate. \n",
    "To get reproducible p-value estimates, always make sure to pass a `seed` (Note that the seed is also used when `mode = \"F\"`).\n",
    "\n",
    "As the computation depends on a kNN graph, the `n_neigh` has a similar effect as to what we have already seen above."
   ]
  },
  {
   "cell_type": "markdown",
   "id": "aae44eb0-a8bc-4bc3-a805-29e89fb753f9",
   "metadata": {},
   "source": [
    "**Task**: compute Ripley's F, G and L and plot for \n",
    "\n",
    "**Questions**:<br>\n",
    "How do you interpret the resulting plots? (hint: what do the different axes indicate?)<br>\n",
    "Where do you think the difference between F/G and L come from?"
   ]
  },
  {
   "cell_type": "code",
   "execution_count": null,
   "id": "acf4761c-75fe-4c6a-9a0b-ed2e35e21e5c",
   "metadata": {},
   "outputs": [],
   "source": [
    "# compute ripley's F\n",
    "\n",
    "# compute ripley's G\n",
    "\n",
    "# compute ripley's L\n"
   ]
  },
  {
   "cell_type": "code",
   "execution_count": null,
   "id": "06ada7fd-9155-4d25-ab4b-e5a4d0bbbbf3",
   "metadata": {},
   "outputs": [],
   "source": [
    "fig, axes = plt.subplots(figsize=(20, 5), ncols=3)\n",
    "\n",
    "for i, (ax, mode) in enumerate(zip(axes, [\"F\", \"G\", \"L\"])):\n",
    "    sq.pl.ripley(merfish, cluster_key=\"Cell_class\", mode=mode, ax=ax)\n",
    "    ax.set_title(f\"Ripley's {mode}\")\n",
    "\n",
    "plt.tight_layout()\n",
    "plt.show()\n",
    "plt.close(fig)"
   ]
  },
  {
   "cell_type": "markdown",
   "id": "14b604a2-2dec-44ad-a52d-4e6399d03344",
   "metadata": {},
   "source": [
    "## Spatial Autocorrelation\n",
    "\n",
    "Spatial autocorrelation metrics implemented in `squidpy` are Moran's I and Geary's C. We focus on Moran's I.\n",
    "\n",
    "**Moran's I**<br>\n",
    "$$ I = \\frac{N}{W} \\frac{\\sum_{i=1}^{n}\\sum_{j=1}^{n}w_{ij}(x_i - \\bar{x})(x_j - \\bar{x})}{\\sum_{i=1}^{n}(x_i - \\bar{x})^2}$$\n",
    "\n",
    "\n",
    "With\n",
    "* $N$ = number of spatial units, i.e. cells\n",
    "* $x_i$ = value of variable at location $i$, i.e. the position of a cell\n",
    "* $\\bar{x}$ = mean of variable $x$, i.e. the centroid of a cell population\n",
    "* $w_{ij}$ = spatial weight between locations $i$ and $j$, i.e. the edge weight in the spatial graph\n",
    "* $W = \\sum_{i=1}^{N}\\sum_{j=1}^{N}w_{ij}$ i.e. the sum of all weights\n",
    "\n",
    "Moran's I ranges from -1 to +1 (positive values indicate positive spatial autocorrelation) (Geary's C ranges from 0 to 2 where values less than 1 indicate positive spatial autocorrelation).<br>\n",
    "Both statistics are sums of local indicators of spatial association statistics.<br>\n",
    "The relation of Moran's I and Geary's C is inverse, although they are not inversely equal. \n",
    "\n",
    "\n",
    "**Notes on the `squidpy` implementation ([`sq.gr.spatial_autocorr`](https://squidpy.readthedocs.io/en/stable/api/squidpy.gr.spatial_autocorr.html))**\n",
    "\n",
    "Unsurprisingly (at this point), the implementation depends on a neighbor graph. In this case, it has to pre-computed and the respective key needs to be passed via `connectivity_key` (e.g. \"spatial_connectivities\" for the default \"spatial\" key; this is also the function parameter default)."
   ]
  },
  {
   "cell_type": "markdown",
   "id": "f971cce5-7069-4c79-954b-42a9f89f49f3",
   "metadata": {},
   "source": [
    "**Task**: Compute Moran's I for all genes once with a 5-NN graph and once with Delaunay triangulation and plot the resulting p-value distributions.\n",
    "\n",
    "**Questions**:<br>\n",
    "What are the main differences to Ripley's statistics (and why)?<br>\n",
    "What type of p-values are you plotting? (hint: check the documentation)"
   ]
  },
  {
   "cell_type": "code",
   "execution_count": null,
   "id": "d70dbe12-cdb9-4b6e-9274-823e703c2ca6",
   "metadata": {},
   "outputs": [],
   "source": [
    "# kNN\n",
    "\n",
    "# delaunay\n"
   ]
  },
  {
   "cell_type": "code",
   "execution_count": null,
   "id": "d2032f81-12a4-431c-88a7-b3fa856f7c88",
   "metadata": {},
   "outputs": [],
   "source": [
    "fig, ax = plt.subplots(figsize=(7, 7))\n",
    "\n",
    "# TODO: use ax.hist to plot p-values\n",
    "\n",
    "plt.legend()\n",
    "plt.tight_layout()\n",
    "plt.show()\n",
    "plt.close(fig)"
   ]
  },
  {
   "cell_type": "code",
   "execution_count": null,
   "id": "07c6752a-93a2-4e5a-95e9-c1ca935d8c0b",
   "metadata": {},
   "outputs": [],
   "source": []
  },
  {
   "cell_type": "code",
   "execution_count": null,
   "id": "bdadf661-c7de-47ed-bb3e-b5167aae1d10",
   "metadata": {},
   "outputs": [],
   "source": [
    "# plotting distributions of top genes for kNN and Delaunay\n",
    "fig, axes = plt.subplots(figsize=(7, 7), ncols=2, nrows=2)\n",
    "for j, (df, met) in enumerate(zip([mi_knn, mi_delaunay], [\"kNN\", \"Delaunay\"])):\n",
    "    genes = df.index[[0, -2]]\n",
    "    for i, gene in enumerate(genes):\n",
    "        # shape=None is necessary because merfish data does not have a pre-defined\n",
    "        # shape like spot-based spatial techniques\n",
    "        sq.pl.spatial_scatter(\n",
    "            merfish_subset,\n",
    "            ax=axes[i, j],\n",
    "            color=gene,\n",
    "            shape=None,\n",
    "            title=f\"{gene} ({met})\",\n",
    "            norm=Normalize(\n",
    "                vmin=0,\n",
    "                vmax=np.quantile(merfish_subset.X[:, np.where(merfish_subset.var.index == gene)[0]].toarray().flatten(), .9)\n",
    "            )\n",
    "        )\n",
    "    axes[i, 0].set_title(gene)\n",
    "\n",
    "plt.tight_layout()\n",
    "plt.show()\n",
    "plt.close(fig)"
   ]
  },
  {
   "cell_type": "markdown",
   "id": "e7e4dc86-9508-4d0d-ba0a-4bbe6e28042b",
   "metadata": {},
   "source": [
    "## Co-Occurrence\n",
    "\n",
    "Spatial co-occurrence is defined as $\\frac{p(c_{t}|c_{c})}{p(c_{t})}$ i.e. the probability of observing a target cell class given the presence of a condition cell class relative to the unconditioned probability."
   ]
  },
  {
   "cell_type": "markdown",
   "id": "464d2908-989c-4f6c-9fd6-05acf76af1dd",
   "metadata": {},
   "source": [
    "**Task**: Compute co-occurences between cell types with [`sq.gr.co_occurrence`](https://squidpy.readthedocs.io/en/stable/api/squidpy.gr.co_occurrence.html) and plot the results [`sq.pl.co_occurrence`](https://squidpy.readthedocs.io/en/stable/api/squidpy.gr.co_occurrence.html)\n",
    "\n",
    "**Questions**:<br>\n",
    "What is the conceptual main differences to Ripley's statistics and Moran's I? (hint: use case)<br>"
   ]
  },
  {
   "cell_type": "code",
   "execution_count": null,
   "id": "1038ecfa-7e7e-438d-ab90-ffb96b9a1d57",
   "metadata": {},
   "outputs": [],
   "source": [
    "# compute co-occurence\n",
    "\n",
    "# plot co-occurence\n"
   ]
  },
  {
   "cell_type": "code",
   "execution_count": null,
   "id": "1a14fa96-9217-462c-9e8e-b260db0fa798",
   "metadata": {},
   "outputs": [],
   "source": [
    "sq.pl.spatial_scatter(merfish_subset, color=\"Cell_class\", shape=None, figsize=(9, 9))"
   ]
  },
  {
   "cell_type": "markdown",
   "id": "1575ceba-d823-4eb9-9d28-b2b478cab6d7",
   "metadata": {},
   "source": [
    "## Neighborhood Enrichment\n",
    "\n",
    "For two classes $i$ and $j$, e.g. two cell types, the neighborhood enrichment test computes the number of cells from those classes (i.e. cell types) that are neighbors in the spatial neighbor graph. We denote this number by $x_{ij}$\n",
    "\n",
    "This number is then compared to an estimate of the mean ($\\mu_{ij}$) and the standard deviation ($\\sigma_{ij}$) of a null distribution by randomizing the cell labels $n$ times.\n",
    "\n",
    "With these parameters, one can compute a z-score $z_{ij} = \\frac{x_{ij} - \\mu_{ij}}{\\sigma_{ij}}$, which can then be turned into a p-value.\n",
    "\n",
    "**Notes on the `squidpy` implementation ([`sq.gr.nhood_enrichment`](https://squidpy.readthedocs.io/en/stable/api/squidpy.gr.nhood_enrichment.html))**\n",
    "\n",
    "Since the p-value is computed via randomization, make sure to pass a seed. The number of randomizations is controlled via `n_perms` and represents a trade-off between robustness/precision and runtime."
   ]
  },
  {
   "cell_type": "markdown",
   "id": "e0fa5625-54af-4090-8fd9-0db606d5f97b",
   "metadata": {},
   "source": [
    "**Task**: Compute and plot the neighborhood enrichment with Delaunay triangulation and a 5-NN graph\n",
    "\n",
    "**Questions**:\n",
    "How do you interpret the values shown in the heatmap?<br>\n",
    "Can you say which color represents \"significance\"?"
   ]
  },
  {
   "cell_type": "code",
   "execution_count": null,
   "id": "5ce744ac-200e-48ee-a495-025aa924db75",
   "metadata": {},
   "outputs": [],
   "source": [
    "# compute neighborhood enrichment for 5NN\n",
    "\n",
    "# plot neighborhood enrichment for 5NN\n"
   ]
  },
  {
   "cell_type": "code",
   "execution_count": null,
   "id": "92d3d59f-2737-4daa-b462-decf3247fdf0",
   "metadata": {},
   "outputs": [],
   "source": [
    "# compute neighborhood enrichment for Delaunay\n",
    "\n",
    "# plot neighborhood enrichment for Delaunay\n"
   ]
  }
 ],
 "metadata": {
  "kernelspec": {
   "display_name": "Python 3 (ipykernel)",
   "language": "python",
   "name": "python3"
  },
  "language_info": {
   "codemirror_mode": {
    "name": "ipython",
    "version": 3
   },
   "file_extension": ".py",
   "mimetype": "text/x-python",
   "name": "python",
   "nbconvert_exporter": "python",
   "pygments_lexer": "ipython3",
   "version": "3.10.17"
  }
 },
 "nbformat": 4,
 "nbformat_minor": 5
}
